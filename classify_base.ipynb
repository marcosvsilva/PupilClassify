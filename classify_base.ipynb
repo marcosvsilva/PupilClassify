{
 "cells": [
  {
   "cell_type": "code",
   "execution_count": 1,
   "metadata": {},
   "outputs": [],
   "source": [
    "import os\n",
    "import pandas as pd\n",
    "\n",
    "from sklearn.model_selection import train_test_split\n",
    "from sklearn.ensemble import RandomForestClassifier\n",
    "from sklearn import preprocessing\n",
    "from sklearn import metrics\n",
    "\n",
    "import matplotlib.pyplot as plt\n",
    "import seaborn as sns\n",
    "%matplotlib inline"
   ]
  },
  {
   "cell_type": "code",
   "execution_count": 2,
   "metadata": {},
   "outputs": [
    {
     "data": {
      "text/html": [
       "<div>\n",
       "<style scoped>\n",
       "    .dataframe tbody tr th:only-of-type {\n",
       "        vertical-align: middle;\n",
       "    }\n",
       "\n",
       "    .dataframe tbody tr th {\n",
       "        vertical-align: top;\n",
       "    }\n",
       "\n",
       "    .dataframe thead th {\n",
       "        text-align: right;\n",
       "    }\n",
       "</style>\n",
       "<table border=\"1\" class=\"dataframe\">\n",
       "  <thead>\n",
       "    <tr style=\"text-align: right;\">\n",
       "      <th></th>\n",
       "      <th>stimul</th>\n",
       "      <th>3_seconds_before</th>\n",
       "      <th>size_instantly_before_stimul</th>\n",
       "      <th>size_instantly_after_stimul</th>\n",
       "      <th>3_seconds_after</th>\n",
       "      <th>5_seconds_after</th>\n",
       "      <th>6_seconds_after</th>\n",
       "      <th>10_seconds_after</th>\n",
       "      <th>min_value1</th>\n",
       "      <th>min_value2</th>\n",
       "      <th>min_value3</th>\n",
       "      <th>max_value1</th>\n",
       "      <th>max_value2</th>\n",
       "      <th>max_value3</th>\n",
       "      <th>classify</th>\n",
       "    </tr>\n",
       "  </thead>\n",
       "  <tbody>\n",
       "    <tr>\n",
       "      <th>0</th>\n",
       "      <td>GREEN</td>\n",
       "      <td>NaN</td>\n",
       "      <td>148.101086</td>\n",
       "      <td>86.565044</td>\n",
       "      <td>77.413909</td>\n",
       "      <td>79.548216</td>\n",
       "      <td>75.612433</td>\n",
       "      <td>NaN</td>\n",
       "      <td>80.524476</td>\n",
       "      <td>93.157609</td>\n",
       "      <td>107.509664</td>\n",
       "      <td>105.968431</td>\n",
       "      <td>148.876991</td>\n",
       "      <td>152.454872</td>\n",
       "      <td>Alterado</td>\n",
       "    </tr>\n",
       "    <tr>\n",
       "      <th>1</th>\n",
       "      <td>WHITE</td>\n",
       "      <td>71.064358</td>\n",
       "      <td>75.921860</td>\n",
       "      <td>40.385234</td>\n",
       "      <td>58.089941</td>\n",
       "      <td>63.182142</td>\n",
       "      <td>74.125907</td>\n",
       "      <td>90.458900</td>\n",
       "      <td>64.859117</td>\n",
       "      <td>67.686749</td>\n",
       "      <td>67.890167</td>\n",
       "      <td>96.265189</td>\n",
       "      <td>96.866353</td>\n",
       "      <td>104.585120</td>\n",
       "      <td>Alterado</td>\n",
       "    </tr>\n",
       "    <tr>\n",
       "      <th>2</th>\n",
       "      <td>RED</td>\n",
       "      <td>91.930875</td>\n",
       "      <td>92.801733</td>\n",
       "      <td>49.058057</td>\n",
       "      <td>79.085355</td>\n",
       "      <td>78.327187</td>\n",
       "      <td>70.664218</td>\n",
       "      <td>96.944936</td>\n",
       "      <td>86.542651</td>\n",
       "      <td>87.165941</td>\n",
       "      <td>87.396628</td>\n",
       "      <td>189.753113</td>\n",
       "      <td>194.908943</td>\n",
       "      <td>196.123136</td>\n",
       "      <td>Alterado</td>\n",
       "    </tr>\n",
       "    <tr>\n",
       "      <th>3</th>\n",
       "      <td>BLUE</td>\n",
       "      <td>103.827693</td>\n",
       "      <td>135.623009</td>\n",
       "      <td>52.562305</td>\n",
       "      <td>69.620102</td>\n",
       "      <td>83.177520</td>\n",
       "      <td>85.642830</td>\n",
       "      <td>NaN</td>\n",
       "      <td>69.199257</td>\n",
       "      <td>82.561925</td>\n",
       "      <td>86.248493</td>\n",
       "      <td>94.604104</td>\n",
       "      <td>110.832952</td>\n",
       "      <td>162.848790</td>\n",
       "      <td>Alterado</td>\n",
       "    </tr>\n",
       "    <tr>\n",
       "      <th>4</th>\n",
       "      <td>GREEN</td>\n",
       "      <td>73.363504</td>\n",
       "      <td>86.163950</td>\n",
       "      <td>72.408216</td>\n",
       "      <td>68.086153</td>\n",
       "      <td>75.391698</td>\n",
       "      <td>NaN</td>\n",
       "      <td>NaN</td>\n",
       "      <td>57.669754</td>\n",
       "      <td>67.954922</td>\n",
       "      <td>74.025428</td>\n",
       "      <td>85.501251</td>\n",
       "      <td>90.869732</td>\n",
       "      <td>120.009410</td>\n",
       "      <td>Alterado</td>\n",
       "    </tr>\n",
       "  </tbody>\n",
       "</table>\n",
       "</div>"
      ],
      "text/plain": [
       "  stimul  3_seconds_before  size_instantly_before_stimul  \\\n",
       "0  GREEN               NaN                    148.101086   \n",
       "1  WHITE         71.064358                     75.921860   \n",
       "2    RED         91.930875                     92.801733   \n",
       "3   BLUE        103.827693                    135.623009   \n",
       "4  GREEN         73.363504                     86.163950   \n",
       "\n",
       "   size_instantly_after_stimul  3_seconds_after  5_seconds_after  \\\n",
       "0                    86.565044        77.413909        79.548216   \n",
       "1                    40.385234        58.089941        63.182142   \n",
       "2                    49.058057        79.085355        78.327187   \n",
       "3                    52.562305        69.620102        83.177520   \n",
       "4                    72.408216        68.086153        75.391698   \n",
       "\n",
       "   6_seconds_after  10_seconds_after  min_value1  min_value2  min_value3  \\\n",
       "0        75.612433               NaN   80.524476   93.157609  107.509664   \n",
       "1        74.125907         90.458900   64.859117   67.686749   67.890167   \n",
       "2        70.664218         96.944936   86.542651   87.165941   87.396628   \n",
       "3        85.642830               NaN   69.199257   82.561925   86.248493   \n",
       "4              NaN               NaN   57.669754   67.954922   74.025428   \n",
       "\n",
       "   max_value1  max_value2  max_value3  classify  \n",
       "0  105.968431  148.876991  152.454872  Alterado  \n",
       "1   96.265189   96.866353  104.585120  Alterado  \n",
       "2  189.753113  194.908943  196.123136  Alterado  \n",
       "3   94.604104  110.832952  162.848790  Alterado  \n",
       "4   85.501251   90.869732  120.009410  Alterado  "
      ]
     },
     "execution_count": 2,
     "metadata": {},
     "output_type": "execute_result"
    }
   ],
   "source": [
    "dataset = pd.read_csv('dataset_final_treat.csv')\n",
    "dataset.head()"
   ]
  },
  {
   "cell_type": "code",
   "execution_count": 3,
   "metadata": {},
   "outputs": [
    {
     "name": "stdout",
     "output_type": "stream",
     "text": [
      "0    GREEN\n",
      "1    WHITE\n",
      "2      RED\n",
      "3     BLUE\n",
      "Name: stimul, dtype: object\n"
     ]
    }
   ],
   "source": [
    "mask = dataset.stimul.duplicated()\n",
    "print(dataset.stimul[~mask])\n",
    "new_stimuls = {'GREEN': 0, 'WHITE': 1, 'RED': 2, 'BLUE': 3}"
   ]
  },
  {
   "cell_type": "code",
   "execution_count": 4,
   "metadata": {},
   "outputs": [
    {
     "name": "stderr",
     "output_type": "stream",
     "text": [
      "/home/marcos/.local/lib/python3.6/site-packages/ipykernel_launcher.py:2: SettingWithCopyWarning: \n",
      "A value is trying to be set on a copy of a slice from a DataFrame\n",
      "\n",
      "See the caveats in the documentation: http://pandas.pydata.org/pandas-docs/stable/user_guide/indexing.html#returning-a-view-versus-a-copy\n",
      "  \n"
     ]
    }
   ],
   "source": [
    "for index, item in dataset.iterrows():\n",
    "    dataset['stimul'][index] = new_stimuls[item.stimul]"
   ]
  },
  {
   "cell_type": "code",
   "execution_count": 5,
   "metadata": {},
   "outputs": [
    {
     "name": "stdout",
     "output_type": "stream",
     "text": [
      "0     Alterado\n",
      "64      Atermo\n",
      "Name: classify, dtype: object\n"
     ]
    }
   ],
   "source": [
    "mask = dataset.classify.duplicated()\n",
    "print(dataset.classify[~mask])\n",
    "new_classify = {'Alterado': 0, 'Atermo': 1}"
   ]
  },
  {
   "cell_type": "code",
   "execution_count": 6,
   "metadata": {},
   "outputs": [
    {
     "name": "stderr",
     "output_type": "stream",
     "text": [
      "/home/marcos/.local/lib/python3.6/site-packages/ipykernel_launcher.py:2: SettingWithCopyWarning: \n",
      "A value is trying to be set on a copy of a slice from a DataFrame\n",
      "\n",
      "See the caveats in the documentation: http://pandas.pydata.org/pandas-docs/stable/user_guide/indexing.html#returning-a-view-versus-a-copy\n",
      "  \n"
     ]
    }
   ],
   "source": [
    "for index, item in dataset.iterrows():\n",
    "    dataset['classify'][index] = new_classify[item.classify]"
   ]
  },
  {
   "cell_type": "code",
   "execution_count": 7,
   "metadata": {},
   "outputs": [],
   "source": [
    "def normalize_column(column_name):\n",
    "    columns = list(dataset.columns)\n",
    "    x = dataset[[column_name]]\n",
    "    min_max_scaler = preprocessing.MinMaxScaler()\n",
    "    x_scaled = min_max_scaler.fit_transform(x)\n",
    "    dataset_aux = pd.DataFrame({column_name: x_scaled[:, 0]})\n",
    "    dataset.pop(column_name)\n",
    "    dataset.insert(columns.index(column_name), column_name, dataset_aux)"
   ]
  },
  {
   "cell_type": "code",
   "execution_count": 8,
   "metadata": {},
   "outputs": [],
   "source": [
    "normalize_column('3_seconds_before')\n",
    "normalize_column('size_instantly_before_stimul')\n",
    "normalize_column('size_instantly_after_stimul')\n",
    "normalize_column('3_seconds_after')\n",
    "normalize_column('5_seconds_after')\n",
    "normalize_column('6_seconds_after')\n",
    "normalize_column('10_seconds_after')\n",
    "normalize_column('min_value1')\n",
    "normalize_column('min_value2')\n",
    "normalize_column('min_value3')\n",
    "normalize_column('max_value1')\n",
    "normalize_column('max_value2')\n",
    "normalize_column('max_value3')"
   ]
  },
  {
   "cell_type": "code",
   "execution_count": 9,
   "metadata": {},
   "outputs": [
    {
     "name": "stdout",
     "output_type": "stream",
     "text": [
      "  stimul  3_seconds_before  size_instantly_before_stimul  \\\n",
      "0      0               NaN                      0.580951   \n",
      "1      1          0.146368                      0.148046   \n",
      "2      2          0.270650                      0.249285   \n",
      "3      3          0.341508                      0.506112   \n",
      "4      0          0.160062                      0.209474   \n",
      "\n",
      "   size_instantly_after_stimul  3_seconds_after  5_seconds_after  \\\n",
      "0                     0.291147         0.169007         0.198170   \n",
      "1                     0.000000         0.053629         0.042677   \n",
      "2                     0.054679         0.178987         0.186569   \n",
      "3                     0.076772         0.122472         0.232651   \n",
      "4                     0.201893         0.113314         0.158679   \n",
      "\n",
      "   6_seconds_after  10_seconds_after  min_value1  min_value2  min_value3  \\\n",
      "0         0.144648               NaN    0.214938    0.287536    0.368505   \n",
      "1         0.136364          0.291270    0.122558    0.137135    0.134543   \n",
      "2         0.117073          0.343034    0.250428    0.252156    0.249733   \n",
      "3         0.200544               NaN    0.148152    0.224971    0.242953   \n",
      "4              NaN               NaN    0.080161    0.138719    0.170773   \n",
      "\n",
      "   max_value1  max_value2  max_value3 classify  \n",
      "0    0.110293    0.291565    0.259937        0  \n",
      "1    0.062566    0.057268    0.049978        0  \n",
      "2    0.522407    0.498930    0.451468        0  \n",
      "3    0.054395    0.120184    0.305525        0  \n",
      "4    0.009621    0.030254    0.117630        0  \n"
     ]
    }
   ],
   "source": [
    "print(dataset.head())"
   ]
  },
  {
   "cell_type": "code",
   "execution_count": 10,
   "metadata": {},
   "outputs": [
    {
     "name": "stdout",
     "output_type": "stream",
     "text": [
      "     stimul  3_seconds_before  size_instantly_before_stimul  \\\n",
      "0         0          0.467785                      0.580951   \n",
      "1         1          0.146368                      0.148046   \n",
      "2         2          0.270650                      0.249285   \n",
      "3         3          0.341508                      0.506112   \n",
      "4         0          0.160062                      0.209474   \n",
      "..      ...               ...                           ...   \n",
      "166       3          0.578629                      0.569578   \n",
      "167       2          0.477978                      0.486766   \n",
      "168       2          0.461518                      0.456347   \n",
      "169       2          0.467532                      0.449630   \n",
      "170       3          0.878463                      0.823521   \n",
      "\n",
      "     size_instantly_after_stimul  3_seconds_after  5_seconds_after  \\\n",
      "0                       0.291147         0.169007         0.198170   \n",
      "1                       0.000000         0.053629         0.042677   \n",
      "2                       0.054679         0.178987         0.186569   \n",
      "3                       0.076772         0.122472         0.232651   \n",
      "4                       0.201893         0.113314         0.158679   \n",
      "..                           ...              ...              ...   \n",
      "166                     0.357094         0.294215         0.442683   \n",
      "167                     0.302020         0.360589         0.625496   \n",
      "168                     0.384433         0.401633         0.653699   \n",
      "169                     0.231346         0.215567         0.347688   \n",
      "170                     0.592628         0.416116         0.834176   \n",
      "\n",
      "     6_seconds_after  10_seconds_after  min_value1  min_value2  min_value3  \\\n",
      "0           0.144648          0.549385    0.214938    0.287536    0.368505   \n",
      "1           0.136364          0.291270    0.122558    0.137135    0.134543   \n",
      "2           0.117073          0.343034    0.250428    0.252156    0.249733   \n",
      "3           0.200544          0.549385    0.148152    0.224971    0.242953   \n",
      "4           0.361352          0.549385    0.080161    0.138719    0.170773   \n",
      "..               ...               ...         ...         ...         ...   \n",
      "166         0.272292          0.406662    0.575310    0.577494    0.578676   \n",
      "167         0.465784          0.546459    0.479108    0.477680    0.474368   \n",
      "168         0.434638          0.609577    0.465673    0.466191    0.463551   \n",
      "169         0.253920          0.395434    0.457110    0.458075    0.456987   \n",
      "170         0.534161          0.819501    0.831822    0.831722    0.830932   \n",
      "\n",
      "     max_value1  max_value2  max_value3  \n",
      "0      0.110293    0.291565    0.259937  \n",
      "1      0.062566    0.057268    0.049978  \n",
      "2      0.522407    0.498930    0.451468  \n",
      "3      0.054395    0.120184    0.305525  \n",
      "4      0.009621    0.030254    0.117630  \n",
      "..          ...         ...         ...  \n",
      "166    0.227675    0.226955    0.359239  \n",
      "167    0.337494    0.374177    0.354857  \n",
      "168    0.384866    0.354537    0.639728  \n",
      "169    0.199323    0.283323    0.484961  \n",
      "170    0.418001    0.382923    0.339983  \n",
      "\n",
      "[171 rows x 14 columns] 0      0\n",
      "1      0\n",
      "2      0\n",
      "3      0\n",
      "4      0\n",
      "      ..\n",
      "166    1\n",
      "167    1\n",
      "168    1\n",
      "169    1\n",
      "170    1\n",
      "Name: classify, Length: 171, dtype: int64\n"
     ]
    }
   ],
   "source": [
    "X = dataset.copy()\n",
    "X.pop('classify')\n",
    "y = dataset['classify']\n",
    "\n",
    "X = X.fillna(X.mean())\n",
    "y = y.fillna(y.mean())\n",
    "\n",
    "print(X, y)"
   ]
  },
  {
   "cell_type": "code",
   "execution_count": 11,
   "metadata": {
    "scrolled": false
   },
   "outputs": [],
   "source": [
    "X_train, X_test, y_train, y_test = train_test_split(X, y, test_size=0.3)"
   ]
  },
  {
   "cell_type": "code",
   "execution_count": 12,
   "metadata": {},
   "outputs": [],
   "source": [
    "# X_train = X_train.fillna(X_train.mean())\n",
    "# X_test = X_test.fillna(X_test.mean())\n",
    "# y_train = y_train.fillna(y_train.mean())\n",
    "# y_test = y_test.fillna(y_test.mean())"
   ]
  },
  {
   "cell_type": "code",
   "execution_count": 13,
   "metadata": {},
   "outputs": [],
   "source": [
    "clf=RandomForestClassifier(n_estimators=100)\n",
    "clf.fit(X_train,y_train)\n",
    "y_pred=clf.predict(X_test)"
   ]
  },
  {
   "cell_type": "code",
   "execution_count": 14,
   "metadata": {},
   "outputs": [
    {
     "name": "stdout",
     "output_type": "stream",
     "text": [
      "Accuracy: 0.7115384615384616\n"
     ]
    }
   ],
   "source": [
    "print(\"Accuracy:\",metrics.accuracy_score(y_test, y_pred))"
   ]
  },
  {
   "cell_type": "code",
   "execution_count": 15,
   "metadata": {},
   "outputs": [
    {
     "data": {
      "text/plain": [
       "size_instantly_after_stimul     0.117251\n",
       "3_seconds_after                 0.109360\n",
       "size_instantly_before_stimul    0.108043\n",
       "max_value1                      0.094642\n",
       "10_seconds_after                0.082184\n",
       "3_seconds_before                0.076638\n",
       "max_value2                      0.068693\n",
       "min_value2                      0.062325\n",
       "6_seconds_after                 0.061784\n",
       "5_seconds_after                 0.060993\n",
       "min_value1                      0.056530\n",
       "min_value3                      0.051660\n",
       "max_value3                      0.043028\n",
       "stimul                          0.006869\n",
       "dtype: float64"
      ]
     },
     "execution_count": 15,
     "metadata": {},
     "output_type": "execute_result"
    }
   ],
   "source": [
    "aux = dataset.copy()\n",
    "aux.pop('classify')\n",
    "\n",
    "feature_imp = pd.Series(clf.feature_importances_,index=list(aux.columns)).sort_values(ascending=False)\n",
    "feature_imp"
   ]
  },
  {
   "cell_type": "code",
   "execution_count": 16,
   "metadata": {},
   "outputs": [
    {
     "name": "stderr",
     "output_type": "stream",
     "text": [
      "No handles with labels found to put in legend.\n"
     ]
    },
    {
     "data": {
      "image/png": "[encoded data removed]",
      "text/plain": [
       "<Figure size 432x288 with 1 Axes>"
      ]
     },
     "metadata": {
      "needs_background": "light"
     },
     "output_type": "display_data"
    }
   ],
   "source": [
    "sns.barplot(x=feature_imp, y=feature_imp.index)\n",
    "\n",
    "plt.xlabel('Feature Importance Score')\n",
    "plt.ylabel('Features')\n",
    "plt.title(\"Visualizing Important Features\")\n",
    "plt.legend()\n",
    "plt.show()"
   ]
  },
  {
   "cell_type": "code",
   "execution_count": null,
   "metadata": {},
   "outputs": [],
   "source": []
  }
 ],
 "metadata": {
  "kernelspec": {
   "display_name": "Python 3",
   "language": "python",
   "name": "python3"
  },
  "language_info": {
   "codemirror_mode": {
    "name": "ipython",
    "version": 3
   },
   "file_extension": ".py",
   "mimetype": "text/x-python",
   "name": "python",
   "nbconvert_exporter": "python",
   "pygments_lexer": "ipython3",
   "version": "3.6.10"
  }
 },
 "nbformat": 4,
 "nbformat_minor": 4
}

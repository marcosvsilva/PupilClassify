{
 "cells": [
  {
   "cell_type": "code",
   "execution_count": 318,
   "metadata": {},
   "outputs": [],
   "source": [
    "import os\n",
    "import pandas as pd\n",
    "import numpy as np\n",
    "\n",
    "from IPython.display import Image\n",
    "from subprocess import call\n",
    "\n",
    "from sklearn.metrics import confusion_matrix, accuracy_score\n",
    "from sklearn.linear_model import LassoCV\n",
    "\n",
    "from sklearn.model_selection import train_test_split\n",
    "from sklearn.model_selection import cross_val_score\n",
    "from sklearn.model_selection import ShuffleSplit\n",
    "\n",
    "from sklearn.neighbors import KNeighborsClassifier\n",
    "\n",
    "from sklearn import tree\n",
    "from sklearn.tree import export_graphviz\n",
    "from sklearn import preprocessing\n",
    "from sklearn import metrics\n",
    "\n",
    "import matplotlib.pyplot as plt\n",
    "import seaborn as sns\n",
    "import graphviz\n",
    "\n",
    "%matplotlib inline"
   ]
  },
  {
   "cell_type": "code",
   "execution_count": 345,
   "metadata": {},
   "outputs": [],
   "source": [
    "# Paramns\n",
    "load_model = False\n",
    "replace_model = True"
   ]
  },
  {
   "cell_type": "code",
   "execution_count": 346,
   "metadata": {},
   "outputs": [
    {
     "data": {
      "text/html": [
       "<div>\n",
       "<style scoped>\n",
       "    .dataframe tbody tr th:only-of-type {\n",
       "        vertical-align: middle;\n",
       "    }\n",
       "\n",
       "    .dataframe tbody tr th {\n",
       "        vertical-align: top;\n",
       "    }\n",
       "\n",
       "    .dataframe thead th {\n",
       "        text-align: right;\n",
       "    }\n",
       "</style>\n",
       "<table border=\"1\" class=\"dataframe\">\n",
       "  <thead>\n",
       "    <tr style=\"text-align: right;\">\n",
       "      <th></th>\n",
       "      <th>stimul</th>\n",
       "      <th>3_seconds_before</th>\n",
       "      <th>max_variation_3_init</th>\n",
       "      <th>size_instantly_before_stimul</th>\n",
       "      <th>size_instantly_after_stimul</th>\n",
       "      <th>max_variation_end_3</th>\n",
       "      <th>3_seconds_after</th>\n",
       "      <th>max_variation_3_5</th>\n",
       "      <th>5_seconds_after</th>\n",
       "      <th>max_variation_5_6</th>\n",
       "      <th>6_seconds_after</th>\n",
       "      <th>max_variation_6_10</th>\n",
       "      <th>10_seconds_after</th>\n",
       "      <th>max_variation_10_15</th>\n",
       "      <th>15_seconds_after</th>\n",
       "      <th>classify</th>\n",
       "    </tr>\n",
       "  </thead>\n",
       "  <tbody>\n",
       "    <tr>\n",
       "      <th>0</th>\n",
       "      <td>GREEN</td>\n",
       "      <td>NaN</td>\n",
       "      <td>75.499630</td>\n",
       "      <td>148.101109</td>\n",
       "      <td>86.564969</td>\n",
       "      <td>85.859824</td>\n",
       "      <td>77.413905</td>\n",
       "      <td>16.322670</td>\n",
       "      <td>79.548213</td>\n",
       "      <td>5.807754</td>\n",
       "      <td>75.612416</td>\n",
       "      <td>94.557429</td>\n",
       "      <td>NaN</td>\n",
       "      <td>36.423620</td>\n",
       "      <td>NaN</td>\n",
       "      <td>Alterado</td>\n",
       "    </tr>\n",
       "    <tr>\n",
       "      <th>1</th>\n",
       "      <td>WHITE</td>\n",
       "      <td>71.064351</td>\n",
       "      <td>16.322670</td>\n",
       "      <td>75.921845</td>\n",
       "      <td>40.385230</td>\n",
       "      <td>53.387231</td>\n",
       "      <td>58.089947</td>\n",
       "      <td>15.525845</td>\n",
       "      <td>63.182150</td>\n",
       "      <td>13.951668</td>\n",
       "      <td>74.125900</td>\n",
       "      <td>36.922826</td>\n",
       "      <td>90.458893</td>\n",
       "      <td>56.981451</td>\n",
       "      <td>NaN</td>\n",
       "      <td>Alterado</td>\n",
       "    </tr>\n",
       "    <tr>\n",
       "      <th>2</th>\n",
       "      <td>RED</td>\n",
       "      <td>91.930873</td>\n",
       "      <td>9.385295</td>\n",
       "      <td>92.801719</td>\n",
       "      <td>49.058049</td>\n",
       "      <td>35.653703</td>\n",
       "      <td>79.085347</td>\n",
       "      <td>7.341944</td>\n",
       "      <td>78.327185</td>\n",
       "      <td>30.556769</td>\n",
       "      <td>70.664204</td>\n",
       "      <td>83.370715</td>\n",
       "      <td>96.944942</td>\n",
       "      <td>126.174200</td>\n",
       "      <td>170.131519</td>\n",
       "      <td>Alterado</td>\n",
       "    </tr>\n",
       "    <tr>\n",
       "      <th>3</th>\n",
       "      <td>BLUE</td>\n",
       "      <td>103.827673</td>\n",
       "      <td>114.258446</td>\n",
       "      <td>135.622956</td>\n",
       "      <td>52.562305</td>\n",
       "      <td>77.406563</td>\n",
       "      <td>69.620100</td>\n",
       "      <td>18.853719</td>\n",
       "      <td>83.177519</td>\n",
       "      <td>3.867221</td>\n",
       "      <td>85.642825</td>\n",
       "      <td>68.658118</td>\n",
       "      <td>NaN</td>\n",
       "      <td>63.930862</td>\n",
       "      <td>NaN</td>\n",
       "      <td>Alterado</td>\n",
       "    </tr>\n",
       "    <tr>\n",
       "      <th>4</th>\n",
       "      <td>GREEN</td>\n",
       "      <td>73.363492</td>\n",
       "      <td>21.154029</td>\n",
       "      <td>86.163943</td>\n",
       "      <td>72.408206</td>\n",
       "      <td>60.984162</td>\n",
       "      <td>68.086146</td>\n",
       "      <td>22.232613</td>\n",
       "      <td>75.391691</td>\n",
       "      <td>43.118221</td>\n",
       "      <td>NaN</td>\n",
       "      <td>48.833691</td>\n",
       "      <td>NaN</td>\n",
       "      <td>7.567916</td>\n",
       "      <td>NaN</td>\n",
       "      <td>Alterado</td>\n",
       "    </tr>\n",
       "  </tbody>\n",
       "</table>\n",
       "</div>"
      ],
      "text/plain": [
       "  stimul  3_seconds_before  max_variation_3_init  \\\n",
       "0  GREEN               NaN             75.499630   \n",
       "1  WHITE         71.064351             16.322670   \n",
       "2    RED         91.930873              9.385295   \n",
       "3   BLUE        103.827673            114.258446   \n",
       "4  GREEN         73.363492             21.154029   \n",
       "\n",
       "   size_instantly_before_stimul  size_instantly_after_stimul  \\\n",
       "0                    148.101109                    86.564969   \n",
       "1                     75.921845                    40.385230   \n",
       "2                     92.801719                    49.058049   \n",
       "3                    135.622956                    52.562305   \n",
       "4                     86.163943                    72.408206   \n",
       "\n",
       "   max_variation_end_3  3_seconds_after  max_variation_3_5  5_seconds_after  \\\n",
       "0            85.859824        77.413905          16.322670        79.548213   \n",
       "1            53.387231        58.089947          15.525845        63.182150   \n",
       "2            35.653703        79.085347           7.341944        78.327185   \n",
       "3            77.406563        69.620100          18.853719        83.177519   \n",
       "4            60.984162        68.086146          22.232613        75.391691   \n",
       "\n",
       "   max_variation_5_6  6_seconds_after  max_variation_6_10  10_seconds_after  \\\n",
       "0           5.807754        75.612416           94.557429               NaN   \n",
       "1          13.951668        74.125900           36.922826         90.458893   \n",
       "2          30.556769        70.664204           83.370715         96.944942   \n",
       "3           3.867221        85.642825           68.658118               NaN   \n",
       "4          43.118221              NaN           48.833691               NaN   \n",
       "\n",
       "   max_variation_10_15  15_seconds_after  classify  \n",
       "0            36.423620               NaN  Alterado  \n",
       "1            56.981451               NaN  Alterado  \n",
       "2           126.174200        170.131519  Alterado  \n",
       "3            63.930862               NaN  Alterado  \n",
       "4             7.567916               NaN  Alterado  "
      ]
     },
     "execution_count": 346,
     "metadata": {},
     "output_type": "execute_result"
    }
   ],
   "source": [
    "dataset = pd.read_csv('dataset_final_treat.csv')\n",
    "dataset.head()"
   ]
  },
  {
   "cell_type": "code",
   "execution_count": 347,
   "metadata": {},
   "outputs": [],
   "source": [
    "# columns_drop = ['3_seconds_after', '15_seconds_after', 'max_value3', 'stimul', '3_seconds_before'] # Accuracy: 0.8539 (+/- 0.1527)\n",
    "# columns_drop = ['min_value1','min_value2','min_value3','max_value1','max_value2','max_value3']\n",
    "# columns_drop = ['6_seconds_after', 'max_variation_end_3']\n",
    "\n",
    "columns_drop = ['3_seconds_before', 'size_instantly_before_stimul',\n",
    "                'size_instantly_after_stimul', 'size_instantly_after_stimul',\n",
    "                '3_seconds_after', '5_seconds_after', '6_seconds_after', '10_seconds_after',\n",
    "                '15_seconds_after', ]\n",
    "\n",
    "\n",
    "# columns_drop = ['6_seconds_after']\n",
    "\n",
    "if len(columns_drop) > 0:\n",
    "    dataset = dataset.drop(columns_drop, axis=1)"
   ]
  },
  {
   "cell_type": "code",
   "execution_count": null,
   "metadata": {},
   "outputs": [],
   "source": []
  },
  {
   "cell_type": "code",
   "execution_count": 348,
   "metadata": {},
   "outputs": [
    {
     "name": "stdout",
     "output_type": "stream",
     "text": [
      "0    GREEN\n",
      "1    WHITE\n",
      "2      RED\n",
      "3     BLUE\n",
      "Name: stimul, dtype: object\n"
     ]
    },
    {
     "name": "stderr",
     "output_type": "stream",
     "text": [
      "C:\\Users\\marco\\anaconda3\\envs\\Classify\\lib\\site-packages\\ipykernel_launcher.py:7: SettingWithCopyWarning: \n",
      "A value is trying to be set on a copy of a slice from a DataFrame\n",
      "\n",
      "See the caveats in the documentation: https://pandas.pydata.org/pandas-docs/stable/user_guide/indexing.html#returning-a-view-versus-a-copy\n",
      "  import sys\n"
     ]
    }
   ],
   "source": [
    "if 'stimul' in dataset.columns:\n",
    "    mask = dataset.stimul.duplicated()\n",
    "    print(dataset.stimul[~mask])\n",
    "    new_stimuls = {'GREEN': 0, 'WHITE': 1, 'RED': 2, 'BLUE': 3}\n",
    "    \n",
    "    for index, item in dataset.iterrows():\n",
    "        dataset['stimul'][index] = new_stimuls[item.stimul]"
   ]
  },
  {
   "cell_type": "code",
   "execution_count": 349,
   "metadata": {},
   "outputs": [
    {
     "name": "stdout",
     "output_type": "stream",
     "text": [
      "0     Alterado\n",
      "64      Atermo\n",
      "Name: classify, dtype: object\n"
     ]
    },
    {
     "name": "stderr",
     "output_type": "stream",
     "text": [
      "C:\\Users\\marco\\anaconda3\\envs\\Classify\\lib\\site-packages\\ipykernel_launcher.py:7: SettingWithCopyWarning: \n",
      "A value is trying to be set on a copy of a slice from a DataFrame\n",
      "\n",
      "See the caveats in the documentation: https://pandas.pydata.org/pandas-docs/stable/user_guide/indexing.html#returning-a-view-versus-a-copy\n",
      "  import sys\n"
     ]
    }
   ],
   "source": [
    "if 'classify' in dataset.columns:\n",
    "    mask = dataset.classify.duplicated()\n",
    "    print(dataset.classify[~mask])\n",
    "    new_classify = {'Alterado': 0, 'Atermo': 1}\n",
    "\n",
    "    for index, item in dataset.iterrows():\n",
    "        dataset['classify'][index] = new_classify[item.classify]"
   ]
  },
  {
   "cell_type": "code",
   "execution_count": 350,
   "metadata": {},
   "outputs": [],
   "source": [
    "def normalize_column(column_name):\n",
    "    columns = list(dataset.columns)\n",
    "    x = dataset[[column_name]]\n",
    "    min_max_scaler = preprocessing.MinMaxScaler()\n",
    "    x_scaled = min_max_scaler.fit_transform(x)\n",
    "    dataset_aux = pd.DataFrame({column_name: x_scaled[:, 0]})\n",
    "    dataset.pop(column_name)\n",
    "    dataset.insert(columns.index(column_name), column_name, dataset_aux)"
   ]
  },
  {
   "cell_type": "code",
   "execution_count": 351,
   "metadata": {},
   "outputs": [],
   "source": [
    "# normalize_column('3_seconds_before')\n",
    "# normalize_column('size_instantly_before_stimul')\n",
    "# normalize_column('size_instantly_after_stimul')\n",
    "# normalize_column('3_seconds_after')\n",
    "# normalize_column('5_seconds_after')\n",
    "# normalize_column('6_seconds_after')\n",
    "# normalize_column('10_seconds_after')\n",
    "# normalize_column('min_value1')\n",
    "# normalize_column('min_value2')\n",
    "# normalize_column('min_value3')\n",
    "# normalize_column('max_value1')\n",
    "# normalize_column('max_value2')\n",
    "# normalize_column('max_value3')"
   ]
  },
  {
   "cell_type": "code",
   "execution_count": 352,
   "metadata": {},
   "outputs": [
    {
     "data": {
      "text/html": [
       "<div>\n",
       "<style scoped>\n",
       "    .dataframe tbody tr th:only-of-type {\n",
       "        vertical-align: middle;\n",
       "    }\n",
       "\n",
       "    .dataframe tbody tr th {\n",
       "        vertical-align: top;\n",
       "    }\n",
       "\n",
       "    .dataframe thead th {\n",
       "        text-align: right;\n",
       "    }\n",
       "</style>\n",
       "<table border=\"1\" class=\"dataframe\">\n",
       "  <thead>\n",
       "    <tr style=\"text-align: right;\">\n",
       "      <th></th>\n",
       "      <th>stimul</th>\n",
       "      <th>max_variation_3_init</th>\n",
       "      <th>max_variation_end_3</th>\n",
       "      <th>max_variation_3_5</th>\n",
       "      <th>max_variation_5_6</th>\n",
       "      <th>max_variation_6_10</th>\n",
       "      <th>max_variation_10_15</th>\n",
       "      <th>classify</th>\n",
       "    </tr>\n",
       "  </thead>\n",
       "  <tbody>\n",
       "    <tr>\n",
       "      <th>0</th>\n",
       "      <td>0</td>\n",
       "      <td>75.499630</td>\n",
       "      <td>85.859824</td>\n",
       "      <td>16.322670</td>\n",
       "      <td>5.807754</td>\n",
       "      <td>94.557429</td>\n",
       "      <td>36.423620</td>\n",
       "      <td>0</td>\n",
       "    </tr>\n",
       "    <tr>\n",
       "      <th>1</th>\n",
       "      <td>1</td>\n",
       "      <td>16.322670</td>\n",
       "      <td>53.387231</td>\n",
       "      <td>15.525845</td>\n",
       "      <td>13.951668</td>\n",
       "      <td>36.922826</td>\n",
       "      <td>56.981451</td>\n",
       "      <td>0</td>\n",
       "    </tr>\n",
       "    <tr>\n",
       "      <th>2</th>\n",
       "      <td>2</td>\n",
       "      <td>9.385295</td>\n",
       "      <td>35.653703</td>\n",
       "      <td>7.341944</td>\n",
       "      <td>30.556769</td>\n",
       "      <td>83.370715</td>\n",
       "      <td>126.174200</td>\n",
       "      <td>0</td>\n",
       "    </tr>\n",
       "    <tr>\n",
       "      <th>3</th>\n",
       "      <td>3</td>\n",
       "      <td>114.258446</td>\n",
       "      <td>77.406563</td>\n",
       "      <td>18.853719</td>\n",
       "      <td>3.867221</td>\n",
       "      <td>68.658118</td>\n",
       "      <td>63.930862</td>\n",
       "      <td>0</td>\n",
       "    </tr>\n",
       "    <tr>\n",
       "      <th>4</th>\n",
       "      <td>0</td>\n",
       "      <td>21.154029</td>\n",
       "      <td>60.984162</td>\n",
       "      <td>22.232613</td>\n",
       "      <td>43.118221</td>\n",
       "      <td>48.833691</td>\n",
       "      <td>7.567916</td>\n",
       "      <td>0</td>\n",
       "    </tr>\n",
       "  </tbody>\n",
       "</table>\n",
       "</div>"
      ],
      "text/plain": [
       "  stimul  max_variation_3_init  max_variation_end_3  max_variation_3_5  \\\n",
       "0      0             75.499630            85.859824          16.322670   \n",
       "1      1             16.322670            53.387231          15.525845   \n",
       "2      2              9.385295            35.653703           7.341944   \n",
       "3      3            114.258446            77.406563          18.853719   \n",
       "4      0             21.154029            60.984162          22.232613   \n",
       "\n",
       "   max_variation_5_6  max_variation_6_10  max_variation_10_15 classify  \n",
       "0           5.807754           94.557429            36.423620        0  \n",
       "1          13.951668           36.922826            56.981451        0  \n",
       "2          30.556769           83.370715           126.174200        0  \n",
       "3           3.867221           68.658118            63.930862        0  \n",
       "4          43.118221           48.833691             7.567916        0  "
      ]
     },
     "execution_count": 352,
     "metadata": {},
     "output_type": "execute_result"
    }
   ],
   "source": [
    "dataset.head()"
   ]
  },
  {
   "cell_type": "code",
   "execution_count": 353,
   "metadata": {},
   "outputs": [],
   "source": [
    "X = dataset.copy()\n",
    "X.pop('classify')\n",
    "y = dataset['classify']\n",
    "\n",
    "# X = X.fillna(X.mean())\n",
    "# y = y.fillna(y.mean())\n",
    "\n",
    "X = X.fillna(0)\n",
    "y = y.fillna(0)"
   ]
  },
  {
   "cell_type": "code",
   "execution_count": 354,
   "metadata": {},
   "outputs": [],
   "source": [
    "X_train, X_test, y_train, y_test = train_test_split(X, y, test_size=0.3)"
   ]
  },
  {
   "cell_type": "code",
   "execution_count": null,
   "metadata": {},
   "outputs": [],
   "source": []
  },
  {
   "cell_type": "code",
   "execution_count": 355,
   "metadata": {},
   "outputs": [],
   "source": [
    "clf = KNeighborsClassifier(n_neighbors = 2)\n",
    "clf.fit(X_train, y_train)\n",
    "\n",
    "y_pred = clf.predict(X_test)"
   ]
  },
  {
   "cell_type": "code",
   "execution_count": 356,
   "metadata": {},
   "outputs": [
    {
     "name": "stdout",
     "output_type": "stream",
     "text": [
      "Best alpha using built-in LassoCV: 3.441785\n",
      "Best score using built-in LassoCV: 0.000000\n",
      "Lasso picked 0 variables and eliminated the other 7 variables\n"
     ]
    },
    {
     "data": {
      "text/plain": [
       "Text(0.5, 1.0, 'Feature importance using Lasso Model')"
      ]
     },
     "execution_count": 356,
     "metadata": {},
     "output_type": "execute_result"
    },
    {
     "data": {
      "image/png": "[encoded data removed]",
      "text/plain": [
       "<Figure size 576x720 with 1 Axes>"
      ]
     },
     "metadata": {
      "needs_background": "light"
     },
     "output_type": "display_data"
    }
   ],
   "source": [
    "reg = LassoCV()\n",
    "reg.fit(X_train, y_train)\n",
    "\n",
    "print(\"Best alpha using built-in LassoCV: %f\" % reg.alpha_)\n",
    "print(\"Best score using built-in LassoCV: %f\" % reg.score(X_train, y_train))\n",
    "coef = pd.Series(reg.coef_, index = X.columns)\n",
    "\n",
    "print(\"Lasso picked \" + str(sum(coef != 0)) + \" variables and eliminated the other \" +  str(sum(coef == 0)) + \" variables\")\n",
    "\n",
    "imp_coef = coef.sort_values()\n",
    "import matplotlib\n",
    "matplotlib.rcParams['figure.figsize'] = (8.0, 10.0)\n",
    "imp_coef.plot(kind = \"barh\")\n",
    "plt.title(\"Feature importance using Lasso Model\")"
   ]
  },
  {
   "cell_type": "code",
   "execution_count": 357,
   "metadata": {},
   "outputs": [
    {
     "data": {
      "text/plain": [
       "array([[12,  8],\n",
       "       [18, 14]], dtype=int64)"
      ]
     },
     "execution_count": 357,
     "metadata": {},
     "output_type": "execute_result"
    }
   ],
   "source": [
    "cm = confusion_matrix(y_test, y_pred)\n",
    "cm"
   ]
  },
  {
   "cell_type": "code",
   "execution_count": 358,
   "metadata": {},
   "outputs": [
    {
     "name": "stdout",
     "output_type": "stream",
     "text": [
      "Accuracy of our model is equal 50.0 %.\n"
     ]
    }
   ],
   "source": [
    "accuracy = accuracy_score(y_test, y_pred) * 100\n",
    "print('Accuracy of our model is equal ' + str(round(accuracy, 2)) + ' %.')"
   ]
  },
  {
   "cell_type": "code",
   "execution_count": 359,
   "metadata": {},
   "outputs": [
    {
     "name": "stdout",
     "output_type": "stream",
     "text": [
      "Accuracy: 64.9412 % (+/- 19.0661)\n"
     ]
    }
   ],
   "source": [
    "scores = cross_val_score(clf, X, y, cv=5)\n",
    "print(\"Accuracy: %0.4f %% (+/- %0.4f)\" % (scores.mean() * 100, (scores.std() * 2) * 100))"
   ]
  },
  {
   "cell_type": "code",
   "execution_count": 360,
   "metadata": {},
   "outputs": [
    {
     "name": "stdout",
     "output_type": "stream",
     "text": [
      "f1_macro: 63.4010 % (+/- 21.3773)\n"
     ]
    }
   ],
   "source": [
    "scores = cross_val_score(clf, X, y, cv=5, scoring='f1_macro')\n",
    "print(\"f1_macro: %0.4f %% (+/- %0.4f)\" % (scores.mean() * 100, (scores.std() * 2) * 100))"
   ]
  },
  {
   "cell_type": "code",
   "execution_count": 361,
   "metadata": {},
   "outputs": [],
   "source": [
    "# tests instances\n",
    "\n",
    "label = {0: 'Alterado', 1: 'Atermo'}\n",
    "\n",
    "x_test = dataset.copy()\n",
    "x_test.pop('classify')\n",
    "y_test = dataset.classify\n",
    "log_execute = []\n",
    "for index, value in x_test.iterrows():\n",
    "    aux = value\n",
    "    aux = aux.fillna(0)\n",
    "    aux = (aux.to_numpy())\n",
    "    pred = clf.predict([aux])\n",
    "    pred = label[pred[0]]\n",
    "    lab = label[y.iloc[index]]\n",
    "    correct = 'CORRETO' if pred == lab else 'INCORRETO'\n",
    "    log_execute.append(\"Registro {} index {} previsto: {}, label: {}!\".format(index+1, correct, pred, lab))\n",
    "    \n",
    "with open('log_execute.txt', 'a') as file_writer:\n",
    "    for line in log_execute:\n",
    "        file_writer.write('{}\\n'.format(line))"
   ]
  },
  {
   "cell_type": "code",
   "execution_count": 362,
   "metadata": {},
   "outputs": [
    {
     "name": "stdout",
     "output_type": "stream",
     "text": [
      "Save/Replace model!\n"
     ]
    }
   ],
   "source": [
    "if replace_model:\n",
    "    # Save model\n",
    "    print('Save/Replace model!')\n",
    "    from joblib import dump\n",
    "    dump(clf, 'classify_KNN.joblib')"
   ]
  },
  {
   "cell_type": "code",
   "execution_count": null,
   "metadata": {},
   "outputs": [],
   "source": []
  }
 ],
 "metadata": {
  "kernelspec": {
   "display_name": "Python 3",
   "language": "python",
   "name": "python3"
  },
  "language_info": {
   "codemirror_mode": {
    "name": "ipython",
    "version": 3
   },
   "file_extension": ".py",
   "mimetype": "text/x-python",
   "name": "python",
   "nbconvert_exporter": "python",
   "pygments_lexer": "ipython3",
   "version": "3.6.10"
  }
 },
 "nbformat": 4,
 "nbformat_minor": 4
}

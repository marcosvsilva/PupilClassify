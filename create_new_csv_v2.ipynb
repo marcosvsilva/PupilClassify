{
 "cells": [
  {
   "cell_type": "code",
   "execution_count": null,
   "metadata": {},
   "outputs": [],
   "source": [
    "import os\n",
    "import cv2\n",
    "import pandas as pd\n",
    "import numpy as np"
   ]
  },
  {
   "cell_type": "code",
   "execution_count": null,
   "metadata": {},
   "outputs": [],
   "source": [
    "# Paths\n",
    "path = 'DeepRN'\n",
    "path_exams = \"D:\\\\Projects\\\\Datasets\"\n",
    "\n",
    "path_data = \"{}\\\\data.csv\".format(path_exams)\n",
    "\n",
    "path_log = 'log_result.log'"
   ]
  },
  {
   "cell_type": "code",
   "execution_count": null,
   "metadata": {},
   "outputs": [],
   "source": [
    "# Params\n",
    "qt_frames_instantly_before = 8\n",
    "qt_frames_instantly_after = 8\n",
    "\n",
    "qt_frames_median_get_size = 5\n",
    "\n",
    "qt_values_median_variation = 3"
   ]
  },
  {
   "cell_type": "code",
   "execution_count": null,
   "metadata": {},
   "outputs": [],
   "source": [
    "# Open a data\n",
    "\n",
    "data = pd.read_csv(path_data)\n",
    "data.head()"
   ]
  },
  {
   "cell_type": "code",
   "execution_count": null,
   "metadata": {},
   "outputs": [],
   "source": [
    "def get_fps_video(video):\n",
    "    exam_path = \"{}\\\\Exams\\\\{}.mp4\".format(path_exams, video)\n",
    "    exam = cv2.VideoCapture(exam_path)\n",
    "    return exam.get(cv2.CAP_PROP_FPS)"
   ]
  },
  {
   "cell_type": "code",
   "execution_count": null,
   "metadata": {},
   "outputs": [],
   "source": [
    "def load_label_data(video):\n",
    "    label_path = \"{}\\\\{}_label.csv\".format(path, video)\n",
    "    return pd.read_csv(label_path)"
   ]
  },
  {
   "cell_type": "code",
   "execution_count": null,
   "metadata": {},
   "outputs": [],
   "source": [
    "def get_list_stimulus(stimulus):\n",
    "    aux = stimulus.replace('[', '').replace(']', '')\n",
    "    list_stimuls = aux.split('}, {')\n",
    "    \n",
    "    if len(list_stimuls) == 0:\n",
    "        raise Exception('Falha por nao ter estimulos')\n",
    "        \n",
    "    return list_stimuls"
   ]
  },
  {
   "cell_type": "code",
   "execution_count": null,
   "metadata": {},
   "outputs": [],
   "source": [
    "def describe_stimul(stimul):\n",
    "    stimul = stimul.replace('{', '').replace('}', '')\n",
    "\n",
    "    # Get a color stimul\n",
    "    stimul_color = stimul[stimul.find(':')+2:stimul.find(\",\")]\n",
    "    stimul_color = stimul_color.replace(\"'\", '')\n",
    "    stimul = stimul[stimul.find(\",\")+2:]\n",
    "\n",
    "    # Get a init frame stimul\n",
    "    init_stimul = int(stimul[stimul.find(':')+2:stimul.find(\",\")])\n",
    "    stimul = stimul[stimul.find(\",\")+2:]\n",
    "\n",
    "    # Get a end frame stimul\n",
    "    end_stimul = int(stimul[stimul.find(':')+2:len(stimul)])\n",
    "    \n",
    "    return stimul_color, init_stimul, end_stimul"
   ]
  },
  {
   "cell_type": "code",
   "execution_count": null,
   "metadata": {},
   "outputs": [],
   "source": [
    "def get_size_stimul(label, number_frame):\n",
    "    range_min = number_frame - qt_frames_median_get_size\n",
    "    range_min = range_min if range_min > 0 else 0\n",
    "    \n",
    "    range_max = number_frame + qt_frames_median_get_size + 1\n",
    "    range_max = range_max if range_max < label.shape[0] else label.shape[0]-1\n",
    "    \n",
    "    list_sizes = np.array([])\n",
    "    for i in range(range_min, range_max):\n",
    "        list_sizes = np.append(list_sizes, label['radius'][i])    \n",
    "\n",
    "    list_sizes.sort()\n",
    "    list_sizes = list_sizes[1:len(list_sizes)-1]\n",
    "    \n",
    "    return np.mean(list_sizes)"
   ]
  },
  {
   "cell_type": "code",
   "execution_count": null,
   "metadata": {},
   "outputs": [],
   "source": [
    "def get_sizes_instantly_after_before(label, init_stimul, end_stimul):\n",
    "    frame_instantly_before = init_stimul - qt_frames_instantly_before\n",
    "    frame_instantly_after = end_stimul + qt_frames_instantly_after\n",
    "\n",
    "    size_instantly_before = get_size_stimul(label, frame_instantly_before)\n",
    "    size_instantly_after = get_size_stimul(label, frame_instantly_after)    \n",
    "    \n",
    "    return size_instantly_before, size_instantly_after"
   ]
  },
  {
   "cell_type": "code",
   "execution_count": null,
   "metadata": {},
   "outputs": [],
   "source": [
    "def normalize(x):\n",
    "    x = np.asarray(x)\n",
    "    y = (x - x.min()) / (np.ptp(x))\n",
    "    return y * x.max()"
   ]
  },
  {
   "cell_type": "code",
   "execution_count": null,
   "metadata": {},
   "outputs": [],
   "source": [
    "def save_log(information):\n",
    "    with open(path_log, 'a') as file_writer:\n",
    "        file_writer.write('{}\\n'.format(information))"
   ]
  },
  {
   "cell_type": "code",
   "execution_count": null,
   "metadata": {},
   "outputs": [],
   "source": [
    "def get_max_variation(label, init_range, end_range):\n",
    "    list_sizes = np.array([])\n",
    "    \n",
    "    init_range = init_range if init_range > 0 else 0\n",
    "    end_range = end_range if end_range < label.shape[0]-1 else label.shape[0]-1\n",
    "    \n",
    "    save_log('func get_max_variation init_range: {} end_range: {}'.format(init_range, end_range))\n",
    "    \n",
    "    for i in range(init_range, end_range-1):\n",
    "        list_sizes = np.append(list_sizes, label['radius'][i])\n",
    "    \n",
    "    list_sizes.sort()\n",
    "    \n",
    "    max_variation = 0\n",
    "    if len(list_sizes) > (qt_values_median_variation * 2):        \n",
    "        for i in range(qt_values_median_variation):\n",
    "            max_variation = max_variation + (list_sizes[(len(list_sizes)-1)-i] - list_sizes[i])\n",
    "\n",
    "        max_variation = max_variation / qt_values_median_variation\n",
    "    \n",
    "    return max_variation"
   ]
  },
  {
   "cell_type": "code",
   "execution_count": null,
   "metadata": {},
   "outputs": [],
   "source": []
  },
  {
   "cell_type": "code",
   "execution_count": null,
   "metadata": {},
   "outputs": [],
   "source": []
  },
  {
   "cell_type": "code",
   "execution_count": null,
   "metadata": {},
   "outputs": [],
   "source": [
    "data_final = pd.DataFrame({'patient': [], 'classify': [], 'video': [], 'param': [], 'stimul': [],\n",
    "                           '3_seconds_before': [],\n",
    "                           'max_variation_3_init': [],\n",
    "                           'size_instantly_before_stimul': [],\n",
    "                           'size_instantly_after_stimul': [],\n",
    "                           'max_variation_end_3': [],\n",
    "                           '3_seconds_after': [],\n",
    "                           'max_variation_3_5': [],\n",
    "                           '5_seconds_after': [],\n",
    "                           'max_variation_5_6': [],\n",
    "                           '6_seconds_after': [],\n",
    "                           'max_variation_6_10': [],\n",
    "                           '10_seconds_after': [],\n",
    "                           'max_variation_10_15': [],\n",
    "                           '15_seconds_after': []})\n",
    "\n",
    "for index, values in data.iterrows():    \n",
    "    # Get a patient informations\n",
    "    video = values['video']    \n",
    "    patient = str(values['patient'])\n",
    "    classify = str(values['classify'])\n",
    "    param = str(values['param'])\n",
    "    stimulus = str(values['stimulus'])\n",
    "    \n",
    "    # Get a FPS Exam\n",
    "    fps = get_fps_video(video)\n",
    "    \n",
    "    # Get a labels of video\n",
    "    label = load_label_data(video)\n",
    "\n",
    "    if label.shape[0] <= 0:\n",
    "        continue\n",
    "    \n",
    "    # Get a list of stimulus\n",
    "    list_stimuls = get_list_stimulus(stimulus)    \n",
    "    \n",
    "    save_log('Exam: {}'.format(video))\n",
    "    for i in range(0, len(list_stimuls)):\n",
    "        # get information stimul\n",
    "        stimul_color, init_stimul, end_stimul = describe_stimul(list_stimuls[i])\n",
    "        save_log('stimul_color: {}, init_stimul: {}, end_stimul: {}'.format(stimul_color, init_stimul, end_stimul))\n",
    "        \n",
    "        # get size instantly before and after stimul\n",
    "        size_instantly_before, size_instantly_after = get_sizes_instantly_after_before(label, init_stimul, end_stimul)\n",
    "        \n",
    "        # get sizes before and after stimul\n",
    "        frame_3_seconds_before = init_stimul - int(fps * 3)\n",
    "        \n",
    "        frame_3_seconds_after = end_stimul + int(fps * 3)\n",
    "        frame_5_seconds_after =  end_stimul + int(fps * 5)\n",
    "        frame_6_seconds_after = end_stimul + int(fps * 6)\n",
    "        frame_10_seconds_after = end_stimul + int(fps * 10)\n",
    "        frame_15_seconds_after = end_stimul + int(fps * 15)\n",
    "\n",
    "        save_log(\"frame_3_before: {}, frame_3_after: {}, frame_5_after: {}, frame_6_after: {} frame_10_after: {}, frame_15_ater: {}\".format(frame_3_seconds_before, frame_3_seconds_after, frame_5_seconds_after, frame_6_seconds_after, frame_10_seconds_after, frame_15_seconds_after))\n",
    "        \n",
    "        # valid number frames and get size stimuls\n",
    "        size_3_seconds_before = get_size_stimul(label, frame_3_seconds_before)\n",
    "\n",
    "        max_variation_3_init = get_max_variation(label, frame_3_seconds_before, init_stimul)\n",
    "                \n",
    "        if i < len(list_stimuls)-1:\n",
    "            _, limit_max, _ = describe_stimul(list_stimuls[i+1])            \n",
    "        else:\n",
    "            limit_max = label.shape[0]\n",
    "            \n",
    "        size_3_seconds_after = get_size_stimul(\n",
    "            label, frame_3_seconds_after) if frame_3_seconds_after < limit_max else np.NaN\n",
    "        \n",
    "        max_variation_end_3 = get_max_variation(label, end_stimul, frame_3_seconds_after)\n",
    "        \n",
    "\n",
    "        size_5_seconds_after = get_size_stimul(\n",
    "            label, frame_5_seconds_after) if frame_5_seconds_after < limit_max else np.NaN\n",
    "        \n",
    "        max_variation_3_5 = get_max_variation(label, frame_3_seconds_after, frame_5_seconds_after)\n",
    "        \n",
    "\n",
    "        size_6_seconds_after = get_size_stimul(\n",
    "            label, frame_6_seconds_after) if frame_6_seconds_after < limit_max else np.NaN\n",
    "        \n",
    "        max_variation_5_6 = get_max_variation(label, frame_5_seconds_after, frame_6_seconds_after)\n",
    "        \n",
    "\n",
    "        size_10_seconds_after = get_size_stimul(\n",
    "            label, frame_10_seconds_after) if frame_10_seconds_after < limit_max else np.NaN\n",
    "        \n",
    "        max_variation_6_10 = get_max_variation(label, frame_6_seconds_after, frame_10_seconds_after)\n",
    "        \n",
    "\n",
    "        size_15_seconds_after = get_size_stimul(\n",
    "            label, frame_15_seconds_after) if frame_15_seconds_after < limit_max else np.NaN\n",
    "        \n",
    "        max_variation_10_15 = get_max_variation(label, frame_10_seconds_after, frame_15_seconds_after)\n",
    "        \n",
    "        # Add register final data\n",
    "        data_final = data_final.append(pd.DataFrame({'patient': [patient], 'classify': [classify], 'video': [video],\n",
    "                                                     'param': [param], 'stimul': [stimul_color],\n",
    "                                                     '3_seconds_before': [size_3_seconds_before],\n",
    "                                                     'max_variation_3_init': [max_variation_3_init],\n",
    "                                                     'size_instantly_before_stimul': [size_instantly_before],\n",
    "                                                     'size_instantly_after_stimul': [size_instantly_after],\n",
    "                                                     'max_variation_end_3': [max_variation_end_3],\n",
    "                                                     '3_seconds_after': [size_3_seconds_after],\n",
    "                                                     'max_variation_3_5': [max_variation_3_5],\n",
    "                                                     '5_seconds_after': [size_5_seconds_after],\n",
    "                                                     'max_variation_5_6': [max_variation_5_6],\n",
    "                                                     '6_seconds_after': [size_6_seconds_after],\n",
    "                                                     'max_variation_6_10': [max_variation_6_10],\n",
    "                                                     '10_seconds_after': [size_10_seconds_after],\n",
    "                                                     'max_variation_10_15': [max_variation_10_15],\n",
    "                                                     '15_seconds_after': [size_15_seconds_after]}))\n",
    "\n",
    "print(data_final)"
   ]
  },
  {
   "cell_type": "code",
   "execution_count": null,
   "metadata": {},
   "outputs": [],
   "source": [
    "data_final.to_csv('data_final.csv', index=False)"
   ]
  },
  {
   "cell_type": "code",
   "execution_count": null,
   "metadata": {},
   "outputs": [],
   "source": []
  }
 ],
 "metadata": {
  "kernelspec": {
   "display_name": "Python 3",
   "language": "python",
   "name": "python3"
  },
  "language_info": {
   "codemirror_mode": {
    "name": "ipython",
    "version": 3
   },
   "file_extension": ".py",
   "mimetype": "text/x-python",
   "name": "python",
   "nbconvert_exporter": "python",
   "pygments_lexer": "ipython3",
   "version": "3.6.10"
  }
 },
 "nbformat": 4,
 "nbformat_minor": 2
}

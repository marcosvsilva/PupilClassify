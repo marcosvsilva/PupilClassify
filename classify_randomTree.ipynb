{
 "cells": [
  {
   "cell_type": "code",
   "execution_count": null,
   "metadata": {},
   "outputs": [],
   "source": [
    "import os\n",
    "import pandas as pd\n",
    "import numpy as np\n",
    "\n",
    "from IPython.display import Image\n",
    "from subprocess import call\n",
    "\n",
    "from sklearn.model_selection import train_test_split\n",
    "from sklearn.model_selection import cross_val_score\n",
    "from sklearn.model_selection import ShuffleSplit\n",
    "\n",
    "from sklearn.tree import export_graphviz\n",
    "from sklearn.ensemble import RandomForestClassifier\n",
    "from sklearn import preprocessing\n",
    "from sklearn import metrics\n",
    "\n",
    "import matplotlib.pyplot as plt\n",
    "import seaborn as sns\n",
    "%matplotlib inline"
   ]
  },
  {
   "cell_type": "code",
   "execution_count": null,
   "metadata": {},
   "outputs": [],
   "source": [
    "dataset = pd.read_csv('dataset_final_treat.csv')\n",
    "dataset.head()"
   ]
  },
  {
   "cell_type": "code",
   "execution_count": null,
   "metadata": {},
   "outputs": [],
   "source": [
    "columns_drop = []\n",
    "if len(columns_drop) > 0:\n",
    "    dataset = dataset.drop(columns_drop, axis=1)"
   ]
  },
  {
   "cell_type": "code",
   "execution_count": null,
   "metadata": {},
   "outputs": [],
   "source": [
    "if 'stimul' in dataset.columns:\n",
    "    mask = dataset.stimul.duplicated()\n",
    "    print(dataset.stimul[~mask])\n",
    "    new_stimuls = {'GREEN': 0, 'WHITE': 1, 'RED': 2, 'BLUE': 3}\n",
    "    \n",
    "    for index, item in dataset.iterrows():\n",
    "        dataset['stimul'][index] = new_stimuls[item.stimul]"
   ]
  },
  {
   "cell_type": "code",
   "execution_count": null,
   "metadata": {},
   "outputs": [],
   "source": [
    "if 'classify' in dataset.columns:\n",
    "    mask = dataset.classify.duplicated()\n",
    "    print(dataset.classify[~mask])\n",
    "    new_classify = {'Alterado': 0, 'Atermo': 1}\n",
    "\n",
    "    for index, item in dataset.iterrows():\n",
    "        dataset['classify'][index] = new_classify[item.classify]"
   ]
  },
  {
   "cell_type": "code",
   "execution_count": null,
   "metadata": {},
   "outputs": [],
   "source": [
    "def normalize_column(column_name):\n",
    "    columns = list(dataset.columns)\n",
    "    x = dataset[[column_name]]\n",
    "    min_max_scaler = preprocessing.MinMaxScaler()\n",
    "    x_scaled = min_max_scaler.fit_transform(x)\n",
    "    dataset_aux = pd.DataFrame({column_name: x_scaled[:, 0]})\n",
    "    dataset.pop(column_name)\n",
    "    dataset.insert(columns.index(column_name), column_name, dataset_aux)"
   ]
  },
  {
   "cell_type": "code",
   "execution_count": null,
   "metadata": {},
   "outputs": [],
   "source": [
    "# normalize_column('3_seconds_before')\n",
    "# normalize_column('size_instantly_before_stimul')\n",
    "# normalize_column('size_instantly_after_stimul')\n",
    "# normalize_column('3_seconds_after')\n",
    "# normalize_column('5_seconds_after')\n",
    "# normalize_column('6_seconds_after')\n",
    "# normalize_column('10_seconds_after')\n",
    "# normalize_column('min_value1')\n",
    "# normalize_column('min_value2')\n",
    "# normalize_column('min_value3')\n",
    "# normalize_column('max_value1')\n",
    "# normalize_column('max_value2')\n",
    "# normalize_column('max_value3')"
   ]
  },
  {
   "cell_type": "code",
   "execution_count": null,
   "metadata": {},
   "outputs": [],
   "source": [
    "print(dataset.head())"
   ]
  },
  {
   "cell_type": "code",
   "execution_count": null,
   "metadata": {},
   "outputs": [],
   "source": [
    "X = dataset.copy()\n",
    "X.pop('classify')\n",
    "y = dataset['classify']\n",
    "\n",
    "# X = X.fillna(X.mean())\n",
    "# y = y.fillna(y.mean())\n",
    "\n",
    "X = X.fillna(0)\n",
    "y = y.fillna(0)\n",
    "\n",
    "print(X, y)"
   ]
  },
  {
   "cell_type": "code",
   "execution_count": null,
   "metadata": {
    "scrolled": false
   },
   "outputs": [],
   "source": [
    "X_train, X_test, y_train, y_test = train_test_split(X, y, test_size=0.3)"
   ]
  },
  {
   "cell_type": "code",
   "execution_count": null,
   "metadata": {},
   "outputs": [],
   "source": [
    "clf = RandomForestClassifier(n_estimators=100)\n",
    "clf.fit(X_train,y_train)\n",
    "y_pred=clf.predict(X_test)"
   ]
  },
  {
   "cell_type": "code",
   "execution_count": null,
   "metadata": {},
   "outputs": [],
   "source": [
    "print(\"Accuracy:\",metrics.accuracy_score(y_test, y_pred))"
   ]
  },
  {
   "cell_type": "code",
   "execution_count": null,
   "metadata": {},
   "outputs": [],
   "source": [
    "aux = dataset.copy()\n",
    "aux.pop('classify')\n",
    "\n",
    "feature_imp = pd.Series(clf.feature_importances_,index=list(aux.columns)).sort_values(ascending=False)\n",
    "feature_imp"
   ]
  },
  {
   "cell_type": "code",
   "execution_count": null,
   "metadata": {},
   "outputs": [],
   "source": [
    "sns.barplot(x=feature_imp, y=feature_imp.index)\n",
    "\n",
    "plt.xlabel('Feature Importance Score')\n",
    "plt.ylabel('Features')\n",
    "plt.title(\"Visualizing Important Features\")\n",
    "plt.legend()\n",
    "plt.show()"
   ]
  },
  {
   "cell_type": "code",
   "execution_count": null,
   "metadata": {},
   "outputs": [],
   "source": [
    "scores = cross_val_score(clf, X, y, cv=5)\n",
    "print(\"Accuracy: %0.2f (+/- %0.2f)\" % (scores.mean(), scores.std() * 2))"
   ]
  },
  {
   "cell_type": "code",
   "execution_count": null,
   "metadata": {},
   "outputs": [],
   "source": [
    "scores = cross_val_score(clf, X, y, cv=10, scoring='f1_macro')\n",
    "print(\"f1_macro: %0.2f (+/- %0.2f)\" % (scores.mean(), scores.std() * 2))"
   ]
  },
  {
   "cell_type": "code",
   "execution_count": null,
   "metadata": {},
   "outputs": [],
   "source": [
    "if False:\n",
    "    estimator = clf.estimators_[0]\n",
    "\n",
    "    aux = dataset.copy()\n",
    "    aux.pop('classify')\n",
    "\n",
    "    target = ['Altered', 'Aterm']\n",
    "\n",
    "    export_graphviz(estimator, out_file='tree.dot', feature_names=aux.columns, class_names=target,\n",
    "                    rounded=True, special_characters=True, proportion=False, precision=2, filled=True)\n",
    "\n",
    "    # Convert to png using system command (requires Graphviz)\n",
    "    call(['dot', '-Tpng', 'tree.dot', '-o', 'tree.png', '-Gdpi=600'])\n",
    "\n",
    "    # Display in jupyter notebook\n",
    "    Image(filename = 'tree.png')"
   ]
  },
  {
   "cell_type": "code",
   "execution_count": null,
   "metadata": {},
   "outputs": [],
   "source": []
  }
 ],
 "metadata": {
  "kernelspec": {
   "display_name": "Python 3",
   "language": "python",
   "name": "python3"
  },
  "language_info": {
   "codemirror_mode": {
    "name": "ipython",
    "version": 3
   },
   "file_extension": ".py",
   "mimetype": "text/x-python",
   "name": "python",
   "nbconvert_exporter": "python",
   "pygments_lexer": "ipython3",
   "version": "3.6.10"
  }
 },
 "nbformat": 4,
 "nbformat_minor": 4
}

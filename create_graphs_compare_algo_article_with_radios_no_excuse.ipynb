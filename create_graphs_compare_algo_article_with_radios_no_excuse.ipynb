{
 "cells": [
  {
   "cell_type": "code",
   "execution_count": 1,
   "metadata": {},
   "outputs": [],
   "source": [
    "import os\n",
    "import cv2\n",
    "import pandas as pd\n",
    "import numpy as np\n",
    "import math\n",
    "import matplotlib.pyplot as plt"
   ]
  },
  {
   "cell_type": "code",
   "execution_count": 2,
   "metadata": {},
   "outputs": [],
   "source": [
    "#paramns\n",
    "radios_validate = 10\n",
    "high_limit = 0\n",
    "# feature_analyse = 'reflection'\n",
    "# feature_analyse = 'pupil_occlusion'\n",
    "# feature_analyse = 'blur'\n",
    "# feature_analyse = 'same_shade'\n",
    "feature_analyse = 'no_features'"
   ]
  },
  {
   "cell_type": "code",
   "execution_count": 3,
   "metadata": {},
   "outputs": [],
   "source": [
    "path_labels = \"D:\\\\Projects\\\\Results\\\\ResultsPPL,CenterPupil,DeepRN,ExCuSe\"\n",
    "path_features = \"\\\\\".join([path_labels,  \"Features\\\\features.csv\"])\n",
    "path_label_label = '\\\\'.join([path_labels, \"Label\\\\label.csv\"])\n",
    "path_label_PPL = '\\\\'.join([path_labels, \"AlgoPPL\\\\label.csv\"])\n",
    "path_label_CenterPupilTec1 = '\\\\'.join([path_labels, \"CenterPupilTec1\\\\label.csv\"])\n",
    "path_label_CenterPupilTec2 = '\\\\'.join([path_labels, \"CenterPupilTec2\\\\label.csv\"])\n",
    "path_label_DeepRN = '\\\\'.join([path_labels, \"DeepRN\\\\label.csv\"])\n",
    "path_label_ExCuSe = '\\\\'.join([path_labels, \"ExCuSe\\\\label.csv\"])"
   ]
  },
  {
   "cell_type": "code",
   "execution_count": 4,
   "metadata": {},
   "outputs": [],
   "source": [
    "features = pd.read_csv(path_features)\n",
    "label_label = pd.read_csv(path_label_label)\n",
    "label_PPL = pd.read_csv(path_label_PPL)\n",
    "label_tec1 = pd.read_csv(path_label_CenterPupilTec1)\n",
    "label_tec2 = pd.read_csv(path_label_CenterPupilTec2)\n",
    "label_deepRN = pd.read_csv(path_label_DeepRN)\n",
    "label_excuse = pd.read_csv(path_label_ExCuSe)"
   ]
  },
  {
   "cell_type": "code",
   "execution_count": 5,
   "metadata": {},
   "outputs": [
    {
     "name": "stdout",
     "output_type": "stream",
     "text": [
      "{'same_shade', 'reflection', 'pupil_occlusion', 'no_features', 'blur'}\n"
     ]
    }
   ],
   "source": [
    "print(set(features['kind_of_fail'].to_list()))"
   ]
  },
  {
   "cell_type": "code",
   "execution_count": 6,
   "metadata": {},
   "outputs": [],
   "source": [
    "label_excuse['n_frame'] = [int(tmp[0].replace('.png', '')) for tmp in label_excuse.values]\n",
    "label_excuse = label_excuse.sort_values(by=['n_frame'], axis=0)\n",
    "label_excuse = label_excuse.reset_index(drop=True)"
   ]
  },
  {
   "cell_type": "code",
   "execution_count": 7,
   "metadata": {},
   "outputs": [],
   "source": [
    "def mensure_distance(label, center_estimate, return_bool=True):\n",
    "    square = ((center_estimate[0] - label[0]) ** 2) + ((center_estimate[1] - label[1]) ** 2)\n",
    "    square = math.sqrt(square)\n",
    "    return square < radios_validate, square"
   ]
  },
  {
   "cell_type": "code",
   "execution_count": 8,
   "metadata": {
    "scrolled": true
   },
   "outputs": [],
   "source": [
    "# Massive process mensure scores and create graphs\n",
    "\n",
    "score_ppl, score_tec1, score_tec2, score_deepRN, score_excuse = pd.Series([0]), pd.Series([0]), pd.Series([0]), pd.Series([0]), pd.Series([0])\n",
    "last_ppl, last_tec1, last_tec2, last_deepRN, last_excuse = 0, 0, 0, 0, 0\n",
    "last_score_ppl, last_score_tec1, last_score_tec2, last_score_deepRN, last_score_excuse = 0, 0, 0, 0, 0\n",
    "\n",
    "for index in range(features.shape[0]):\n",
    "    if features['kind_of_fail'][index] != feature_analyse:\n",
    "        continue\n",
    "    \n",
    "    center_label = int(label_label[\"center_x\"][index]), int(label_label[\"center_y\"][index])\n",
    "    center_ppl = int(label_PPL[\"center_x\"][index]), int(label_PPL[\"center_y\"][index])\n",
    "    center_tec1 = int(label_tec1[\"center_x\"][index]), int(label_tec1[\"center_y\"][index])\n",
    "    center_tec2 = int(label_tec2[\"center_x\"][index]), int(label_tec2[\"center_y\"][index])\n",
    "    center_deepRN = int(label_deepRN[\"center_x\"][index]), int(label_deepRN[\"center_y\"][index])\n",
    "    center_excuse = int(label_excuse[\"position_y\"][index]), int(label_excuse[\"position_x\"][index])\n",
    "    \n",
    "    # Measure distance and set correct or incorrect predict of algorithm\n",
    "    # -------------------\n",
    "    v_ppl = mensure_distance(center_label, center_ppl)[1]\n",
    "    if v_ppl < radios_validate:\n",
    "        v_ppl = 0.0\n",
    "        last_score_ppl += 1\n",
    "    \n",
    "    v_tec1 = mensure_distance(center_label, center_tec1)[1]\n",
    "    if v_tec1 < radios_validate:\n",
    "        v_tec1 = 0.0\n",
    "        last_score_tec1 += 1\n",
    "    \n",
    "    v_tec2 = mensure_distance(center_label, center_tec2)[1]\n",
    "    if v_tec2 < radios_validate:\n",
    "        v_tec2 = 0.0\n",
    "        last_score_tec2 += 1\n",
    "        \n",
    "    v_deepRN = mensure_distance(center_label, center_deepRN)[1]\n",
    "    if v_deepRN < radios_validate:\n",
    "        v_deepRN = 0.0\n",
    "        last_score_deepRN += 1\n",
    "        \n",
    "    v_excuse = mensure_distance(center_label, center_excuse)[1]\n",
    "    if v_excuse < radios_validate:\n",
    "        v_excuse = 0.0\n",
    "        last_score_excuse += 1\n",
    "        \n",
    "        \n",
    "    # Test limits of distance, 1-converge margem to high_limit; 2-sky of limit\n",
    "    # -------------------\n",
    "    if high_limit > 0:\n",
    "        v_ppl = last_ppl + v_ppl if v_ppl < high_limit else last_ppl + high_limit\n",
    "        v_tec1 = last_tec1 + v_tec1 if v_tec1 < high_limit else last_tec1 + high_limit\n",
    "        v_tec2 = last_tec2 + v_tec2 if v_tec2 < high_limit else last_tec2 + high_limit\n",
    "        v_deepRN = last_deepRN + v_deepRN if v_deepRN < high_limit else last_deepRN + high_limit        \n",
    "        v_excuse = last_excuse + v_excuse if v_excuse < high_limit else last_excuse + high_limit\n",
    "    else:\n",
    "        v_ppl = last_ppl + v_ppl\n",
    "        v_tec1 = last_tec1 + v_tec1\n",
    "        v_tec2 = last_tec2 + v_tec2\n",
    "        v_deepRN = last_deepRN + v_deepRN\n",
    "        v_excuse = last_excuse + v_excuse\n",
    "\n",
    "        \n",
    "    # Save last values\n",
    "    # -------------------\n",
    "    last_ppl = v_ppl\n",
    "    last_tec1 = v_tec1\n",
    "    last_tec2 = v_tec2\n",
    "    last_deepRN = v_deepRN\n",
    "    last_excuse = v_excuse    \n",
    "    \n",
    "    \n",
    "    # Fill distance and score lists\n",
    "    # -------------------   \n",
    "    score_ppl = score_ppl.append(pd.Series(last_score_ppl))\n",
    "    score_tec1 = score_tec1.append(pd.Series(last_score_tec1))\n",
    "    score_tec2 = score_tec2.append(pd.Series(last_score_tec2))\n",
    "    score_deepRN = score_deepRN.append(pd.Series(last_score_deepRN))\n",
    "    score_excuse = score_excuse.append(pd.Series(last_score_excuse))"
   ]
  },
  {
   "cell_type": "code",
   "execution_count": 9,
   "metadata": {},
   "outputs": [
    {
     "name": "stdout",
     "output_type": "stream",
     "text": [
      "   PPL Algorithm\n",
      "0              0\n",
      "1              0\n",
      "2              0\n",
      "3              0\n",
      "4              0\n",
      "   CenterPupil - Tec1 Algorithm\n",
      "0                             0\n",
      "1                             1\n",
      "2                             2\n",
      "3                             3\n",
      "4                             4\n",
      "   CenterPupil - Tec2 Algorithm\n",
      "0                             0\n",
      "1                             1\n",
      "2                             2\n",
      "3                             3\n",
      "4                             4\n",
      "   DeepRN Algorithm\n",
      "0                 0\n",
      "1                 1\n",
      "2                 2\n",
      "3                 3\n",
      "4                 4\n",
      "   ExCuSe Algorithm\n",
      "0                 0\n",
      "1                 0\n",
      "2                 0\n",
      "3                 0\n",
      "4                 0\n",
      "(2840, 1) (2840, 1) (2840, 1) (2840, 1) (2840, 1)\n",
      "<class 'pandas.core.frame.DataFrame'> <class 'pandas.core.frame.DataFrame'> <class 'pandas.core.frame.DataFrame'> <class 'pandas.core.frame.DataFrame'> <class 'pandas.core.frame.DataFrame'>\n"
     ]
    }
   ],
   "source": [
    "# Rearange lists of scores\n",
    "list_score_ppl = pd.Series(score_ppl, name=\"PPL Algorithm\").reset_index().drop(['index'], axis=1)\n",
    "list_score_tec1 = pd.Series(score_tec1, name=\"CenterPupil - Tec1 Algorithm\").reset_index().drop(['index'], axis=1)\n",
    "list_score_tec2 = pd.Series(score_tec2, name=\"CenterPupil - Tec2 Algorithm\").reset_index().drop(['index'], axis=1)\n",
    "list_score_deepRN = pd.Series(score_deepRN, name=\"DeepRN Algorithm\").reset_index().drop(['index'], axis=1)\n",
    "list_score_excuse = pd.Series(score_excuse, name=\"ExCuSe Algorithm\").reset_index().drop(['index'], axis=1)\n",
    "\n",
    "print(list_score_ppl[0:5])\n",
    "print(list_score_tec1[0:5])\n",
    "print(list_score_tec2[0:5])\n",
    "print(list_score_deepRN[0:5])\n",
    "print(list_score_excuse[0:5])\n",
    "\n",
    "print(list_score_ppl.shape, list_score_tec1.shape, list_score_tec2.shape, list_score_deepRN.shape, list_score_excuse.shape)\n",
    "print(type(list_score_ppl), type(list_score_tec1), type(list_score_tec2), type(list_score_deepRN), type(list_score_excuse))"
   ]
  },
  {
   "cell_type": "code",
   "execution_count": 10,
   "metadata": {},
   "outputs": [
    {
     "name": "stdout",
     "output_type": "stream",
     "text": [
      "[[0 'PPL Algorithm' 0]\n",
      " [0 'CenterPupil - Tec1 Algorithm' 0]\n",
      " [0 'CenterPupil - Tec2 Algorithm' 0]\n",
      " ...\n",
      " [2839 'CenterPupil - Tec2 Algorithm' 1755]\n",
      " [2839 'DeepRN Algorithm' 2825]\n",
      " [2839 'ExCuSe Algorithm' 620]]\n"
     ]
    }
   ],
   "source": [
    "# Create a dataset of scores\n",
    "\n",
    "if feature_analyse == 'reflection':\n",
    "    feature_text = 'Reflection'\n",
    "elif feature_analyse == 'same_shade':\n",
    "    feature_text = 'Same Shade'\n",
    "elif feature_analyse == 'no_features':\n",
    "    feature_text = 'No Features'\n",
    "elif feature_analyse == 'pupil_occlusion':\n",
    "    feature_text = 'Pupil Occlusion'\n",
    "elif feature_analyse == 'blur':\n",
    "    feature_text = 'Blur'\n",
    "else:\n",
    "    feature_text = 'No Identify'\n",
    "\n",
    "text_1 = 'Quantity Frames of {}'.format(feature_text)\n",
    "text_2 = 'Algorithm'\n",
    "text_3 = 'Score'\n",
    "\n",
    "data_score = pd.DataFrame({text_1: [0], text_2: ['PPL Algorithm'], text_3: [list_score_ppl.iloc[0][0]]})\n",
    "data_score = data_score.append({text_1: 0, text_2: 'CenterPupil - Tec1 Algorithm', text_3: list_score_tec1.iloc[0][0]}, ignore_index=True)\n",
    "data_score = data_score.append({text_1: 0, text_2: 'CenterPupil - Tec2 Algorithm', text_3: list_score_tec2.iloc[0][0]}, ignore_index=True)\n",
    "data_score = data_score.append({text_1: 0, text_2: 'DeepRN Algorithm', text_3: list_score_deepRN.iloc[0][0]}, ignore_index=True)\n",
    "data_score = data_score.append({text_1: 0, text_2: 'ExCuSe Algorithm', text_3: list_score_excuse.iloc[0][0]}, ignore_index=True)\n",
    "\n",
    "for frame in range(1, list_score_deepRN.shape[0]):\n",
    "    data_score = data_score.append({text_1: frame, text_2: 'PPL Algorithm', text_3: list_score_ppl.iloc[frame][0]}, ignore_index=True)\n",
    "    data_score = data_score.append({text_1: frame, text_2: 'CenterPupil - Tec1 Algorithm', text_3: list_score_tec1.iloc[frame][0]}, ignore_index=True)\n",
    "    data_score = data_score.append({text_1: frame, text_2: 'CenterPupil - Tec2 Algorithm', text_3: list_score_tec2.iloc[frame][0]}, ignore_index=True)\n",
    "    data_score = data_score.append({text_1: frame, text_2: 'DeepRN Algorithm', text_3: list_score_deepRN.iloc[frame][0]}, ignore_index=True)\n",
    "    data_score = data_score.append({text_1: frame, text_2: 'ExCuSe Algorithm', text_3: list_score_excuse.iloc[frame][0]}, ignore_index=True)\n",
    "    \n",
    "print(data_score.values)"
   ]
  },
  {
   "cell_type": "code",
   "execution_count": 11,
   "metadata": {},
   "outputs": [
    {
     "name": "stderr",
     "output_type": "stream",
     "text": [
      "The PostScript backend does not support transparency; partially transparent artists will be rendered opaque.\n",
      "The PostScript backend does not support transparency; partially transparent artists will be rendered opaque.\n"
     ]
    },
    {
     "data": {
      "image/png": "[encoded data removed]",
      "text/plain": [
       "<Figure size 432x288 with 1 Axes>"
      ]
     },
     "metadata": {},
     "output_type": "display_data"
    }
   ],
   "source": [
    "import seaborn as sns\n",
    "import matplotlib.pyplot as plt\n",
    "\n",
    "# sns.set_theme(style=\"darkgrid\")\n",
    "sns.set_theme(style=\"ticks\")\n",
    "\n",
    "sns_plot = sns.lineplot(data=data_score, x=text_1, y=text_3, hue=text_2, style=text_2)\n",
    "fig = sns_plot.get_figure()\n",
    "\n",
    "name_fig = '{}\\\\Compare_Scores_Algorithm_Features_{}.eps'.format(path_labels, feature_analyse)\n",
    "fig.savefig(name_fig, format='eps', dpi=1200, bbox_inches='tight')\n",
    "fig.savefig(name_fig.replace('.eps', '.png'), format='png', dpi=1200, bbox_inches='tight')"
   ]
  },
  {
   "cell_type": "code",
   "execution_count": 12,
   "metadata": {},
   "outputs": [],
   "source": [
    "out_label = \"\\\\\".join([path_labels, \"scores_features.txt\"])\n",
    "\n",
    "acc_ppl = (score_ppl.max()/score_ppl.shape[0])*100\n",
    "acc_tec1 = (score_tec1.max()/score_tec1.shape[0])*100\n",
    "acc_tec2 = (score_tec2.max()/score_tec2.shape[0])*100\n",
    "acc_deepRN = (score_deepRN.max()/score_deepRN.shape[0])*100\n",
    "acc_excuse = (score_excuse.max()/score_excuse.shape[0])*100\n",
    "\n",
    "with open(out_label, 'a') as file_write:\n",
    "    text_write = '{} - ppl: %.4f; tec1: %.4f; tec2: %.4f; deepRN: %.4f; ExCuse: %.4f'.format(feature_text) % (acc_ppl,\n",
    "                                                                                                              acc_tec1,\n",
    "                                                                                                              acc_tec2,\n",
    "                                                                                                              acc_deepRN,\n",
    "                                                                                                              acc_excuse)\n",
    "    file_write.write(text_write)"
   ]
  },
  {
   "cell_type": "code",
   "execution_count": 28,
   "metadata": {},
   "outputs": [
    {
     "name": "stdout",
     "output_type": "stream",
     "text": [
      "      Frame  Reflection  Same Shade  No Features  Pupil Occlusion  Blur\n",
      "0         0           0           0            1                0     0\n",
      "1         1           0           0            2                0     0\n",
      "2         2           0           0            3                0     0\n",
      "3         3           0           0            4                0     0\n",
      "4         4           0           0            5                0     0\n",
      "...     ...         ...         ...          ...              ...   ...\n",
      "4395   4395         200         160         2835              201  1000\n",
      "4396   4396         200         160         2836              201  1000\n",
      "4397   4397         200         160         2837              201  1000\n",
      "4398   4398         200         160         2838              201  1000\n",
      "4399   4399         200         160         2839              201  1000\n",
      "\n",
      "[4400 rows x 6 columns]\n"
     ]
    }
   ],
   "source": [
    "# Create a dataset of scores\n",
    "\n",
    "max_reflection, max_same_shade, max_no_features, max_pupil_occlusion, max_blur = 0, 0, 0, 0, 0\n",
    "\n",
    "\n",
    "if features['kind_of_fail'][0] == 'reflection':\n",
    "    max_reflection += 1\n",
    "elif features['kind_of_fail'][0] == 'same_shade':\n",
    "    max_same_shade += 1\n",
    "elif features['kind_of_fail'][0] == 'no_features':\n",
    "    max_no_features += 1\n",
    "elif features['kind_of_fail'][0] == 'pupil_occlusion':\n",
    "    max_pupil_occlusion += 1\n",
    "elif features['kind_of_fail'][0] == 'blur':\n",
    "    max_blur += 1\n",
    "\n",
    "data_features = pd.DataFrame({'Frame': [0], 'Reflection': [max_reflection], 'Same Shade': [max_same_shade],\n",
    "                              'No Features': [max_no_features], 'Pupil Occlusion': [max_pupil_occlusion],\n",
    "                              'Blur': [max_blur]})\n",
    "\n",
    "for index in range(1, features.shape[0]):\n",
    "    if features['kind_of_fail'][index] == 'reflection':\n",
    "        max_reflection += 1\n",
    "    elif features['kind_of_fail'][index] == 'same_shade':\n",
    "        max_same_shade += 1\n",
    "    elif features['kind_of_fail'][index] == 'no_features':\n",
    "        max_no_features += 1\n",
    "    elif features['kind_of_fail'][index] == 'pupil_occlusion':\n",
    "        max_pupil_occlusion += 1\n",
    "    elif features['kind_of_fail'][index] == 'blur':\n",
    "        max_blur += 1\n",
    "    \n",
    "    data_features = data_features.append({'Frame': index, 'Reflection': max_reflection, 'Same Shade': max_same_shade,\n",
    "                                          'No Features': max_no_features, 'Pupil Occlusion': max_pupil_occlusion,\n",
    "                                          'Blur': max_blur}, ignore_index=True)\n",
    "    \n",
    "print(data_features)"
   ]
  },
  {
   "cell_type": "code",
   "execution_count": 31,
   "metadata": {},
   "outputs": [
    {
     "name": "stdout",
     "output_type": "stream",
     "text": [
      "                    Frame  Reflection  Same Shade  No Features  \\\n",
      "Frame            1.000000    0.870857    0.867264     0.986606   \n",
      "Reflection       0.870857    1.000000    0.774536     0.853834   \n",
      "Same Shade       0.867264    0.774536    1.000000     0.840159   \n",
      "No Features      0.986606    0.853834    0.840159     1.000000   \n",
      "Pupil Occlusion  0.572227    0.330803    0.437944     0.510010   \n",
      "Blur             0.956346    0.803124    0.812515     0.902959   \n",
      "\n",
      "                 Pupil Occlusion      Blur  \n",
      "Frame                   0.572227  0.956346  \n",
      "Reflection              0.330803  0.803124  \n",
      "Same Shade              0.437944  0.812515  \n",
      "No Features             0.510010  0.902959  \n",
      "Pupil Occlusion         1.000000  0.603008  \n",
      "Blur                    0.603008  1.000000  \n",
      "[[ True  True  True  True  True  True]\n",
      " [False  True  True  True  True  True]\n",
      " [False False  True  True  True  True]\n",
      " [False False False  True  True  True]\n",
      " [False False False False  True  True]\n",
      " [False False False False False  True]]\n"
     ]
    },
    {
     "data": {
      "text/plain": [
       "<AxesSubplot:>"
      ]
     },
     "execution_count": 31,
     "metadata": {},
     "output_type": "execute_result"
    },
    {
     "data": {
      "image/png": "[encoded data removed]",
      "text/plain": [
       "<Figure size 792x648 with 2 Axes>"
      ]
     },
     "metadata": {},
     "output_type": "display_data"
    }
   ],
   "source": [
    "from string import ascii_letters\n",
    "import seaborn as sns\n",
    "import matplotlib.pyplot as plt\n",
    "\n",
    "sns.set_theme(style=\"white\")\n",
    "\n",
    "corr = data_features.corr()\n",
    "mask = np.triu(np.ones_like(corr, dtype=bool))\n",
    "print(corr)\n",
    "print(mask)\n",
    "\n",
    "f, ax = plt.subplots(figsize=(11, 9))\n",
    "cmap = sns.diverging_palette(230, 20, as_cmap=True)\n",
    "# sns.heatmap(corr, mask=mask, cmap=cmap, vmax=.3, center=0, square=True, linewidths=.5, cbar_kws={\"shrink\": .5})\n",
    "sns.heatmap(corr, mask=mask, cmap=cmap, center=0, square=True, linewidths=.5, cbar_kws={\"shrink\": .5})"
   ]
  },
  {
   "cell_type": "code",
   "execution_count": null,
   "metadata": {},
   "outputs": [],
   "source": []
  }
 ],
 "metadata": {
  "kernelspec": {
   "display_name": "Python 3",
   "language": "python",
   "name": "python3"
  },
  "language_info": {
   "codemirror_mode": {
    "name": "ipython",
    "version": 3
   },
   "file_extension": ".py",
   "mimetype": "text/x-python",
   "name": "python",
   "nbconvert_exporter": "python",
   "pygments_lexer": "ipython3",
   "version": "3.6.10"
  }
 },
 "nbformat": 4,
 "nbformat_minor": 4
}

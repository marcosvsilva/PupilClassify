{
 "cells": [
  {
   "cell_type": "code",
   "execution_count": null,
   "metadata": {},
   "outputs": [],
   "source": [
    "import pandas as pd\n",
    "import numpy as np\n",
    "import matplotlib as plt\n",
    "import random\n",
    "from datetime import datetime"
   ]
  },
  {
   "cell_type": "code",
   "execution_count": null,
   "metadata": {},
   "outputs": [],
   "source": [
    "# Params\n",
    "p_duplicate = 40 # in percent (limit to 100)\n",
    "p_distribution_altered = 40\n",
    "p_distribution_aterm = 60\n",
    "\n",
    "columns_drop = ['patient', 'video', 'param']\n",
    "# columns_drop = ['patient', 'video', 'param', '15_seconds_after', 'stimul']"
   ]
  },
  {
   "cell_type": "code",
   "execution_count": null,
   "metadata": {},
   "outputs": [],
   "source": [
    "if p_distribution_altered + p_distribution_aterm != 100:\n",
    "    raise Exception('Fail distribution new dataset!')"
   ]
  },
  {
   "cell_type": "code",
   "execution_count": null,
   "metadata": {},
   "outputs": [],
   "source": [
    "original_dataset = pd.read_csv('data_final.csv')"
   ]
  },
  {
   "cell_type": "code",
   "execution_count": null,
   "metadata": {},
   "outputs": [],
   "source": [
    "print(original_dataset.head())"
   ]
  },
  {
   "cell_type": "code",
   "execution_count": null,
   "metadata": {},
   "outputs": [],
   "source": [
    "altered_list = original_dataset['classify'] != 'Atermo'\n",
    "altered_dataset = original_dataset[altered_list]\n",
    "# print(altered_dataset.head())"
   ]
  },
  {
   "cell_type": "code",
   "execution_count": null,
   "metadata": {},
   "outputs": [],
   "source": [
    "aterm_list_1 = original_dataset['classify'] == 'Atermo'\n",
    "aterm_list_2 = original_dataset['6_seconds_after'] > 0\n",
    "aterm_list_3 = aterm_list_1 == aterm_list_2\n",
    "aterm_dataset = original_dataset[aterm_list_3]\n",
    "# print(aterm_dataset.head())"
   ]
  },
  {
   "cell_type": "code",
   "execution_count": null,
   "metadata": {},
   "outputs": [],
   "source": [
    "register_altered = altered_dataset.shape[0]\n",
    "register_aterm = aterm_dataset.shape[0]\n",
    "print(register_altered, register_aterm)"
   ]
  },
  {
   "cell_type": "code",
   "execution_count": null,
   "metadata": {},
   "outputs": [],
   "source": [
    "total = register_altered + register_aterm\n",
    "print(\"%d (%.2f%%) for altered and %d (%.2f%%) for aterm\" % (register_altered,\n",
    "                                                             (register_altered/total)*100,\n",
    "                                                             register_aterm,\n",
    "                                                             (register_aterm/total)*100))"
   ]
  },
  {
   "cell_type": "code",
   "execution_count": null,
   "metadata": {},
   "outputs": [],
   "source": [
    "register_altered_new =  register_altered + (register_altered * (p_duplicate / 100))\n",
    "register_aterm_new = int(register_altered_new / 0.6)\n",
    "total = register_altered_new + register_aterm_new\n",
    "print(\"%d (%.2f%%) for altered and %d (%.2f%%) for aterm\" % (register_altered_new,\n",
    "                                                             (register_altered_new/total)*100,\n",
    "                                                             register_aterm_new,\n",
    "                                                             (register_aterm_new/total)*100))"
   ]
  },
  {
   "cell_type": "code",
   "execution_count": null,
   "metadata": {},
   "outputs": [],
   "source": [
    "# Creating a seed for the random process based on real time\n",
    "seed = datetime.now()\n",
    "y, m, d, h, M, s = datetime.now().year, datetime.now().month, datetime.now().day, datetime.now().hour, datetime.now().minute, datetime.now().second\n",
    "random.seed(y+m+d*h-(M*s))"
   ]
  },
  {
   "cell_type": "code",
   "execution_count": null,
   "metadata": {},
   "outputs": [],
   "source": [
    "print('Duplicate altered registers, original %d for %d' % (altered_dataset.shape[0], register_altered_new))\n",
    "if altered_dataset.shape[0] < register_altered_new:\n",
    "    new_altered_dataset = altered_dataset\n",
    "    while(new_altered_dataset.shape[0] < register_altered_new-1):\n",
    "        aux = random.randint(0, altered_dataset.shape[0]-1)\n",
    "        new_altered_dataset = new_altered_dataset.append(altered_dataset.iloc[aux])\n",
    "        \n",
    "    print('Finish new altered dataset, %d register' % (new_altered_dataset.shape[0]))\n",
    "else:\n",
    "    new_altered_dataset = altered_dataset"
   ]
  },
  {
   "cell_type": "code",
   "execution_count": null,
   "metadata": {},
   "outputs": [],
   "source": [
    "print('Duplicate aterms registers, original %d for %d' % (aterm_dataset.shape[0], register_aterm_new))\n",
    "if aterm_dataset.shape[0] < register_aterm_new:    \n",
    "    new_aterm_dataset = aterm_dataset\n",
    "    while(new_aterm_dataset.shape[0] < register_aterm_new-1):\n",
    "        aux = random.randint(0, aterm_dataset.shape[0]-1)\n",
    "        new_aterm_dataset = new_aterm_dataset.append(aterm_dataset.iloc[aux])\n",
    "        \n",
    "    print('Finish new aterm dataset, %d register' % (new_altered_dataset.shape[0]))\n",
    "else:\n",
    "    new_aterm_dataset = aterm_dataset"
   ]
  },
  {
   "cell_type": "code",
   "execution_count": null,
   "metadata": {},
   "outputs": [],
   "source": [
    "list_index_insert_altered = [index for index, item in new_altered_dataset.iterrows()]\n",
    "\n",
    "if new_altered_dataset.shape[0] > register_altered_new:\n",
    "    list_index = [index for index, item in new_altered_dataset.iterrows()]\n",
    "\n",
    "    list_index_insert_altered = []\n",
    "    while len(list_index_insert_altered) < register_altered_new:\n",
    "        aux = random.randint(0, new_altered_dataset.shape[0]-1)\n",
    "        if aux in list_index:\n",
    "            list_index_insert_altered.append(aux)\n",
    "    \n",
    "print('List of register altered dataset, %d register' % (len(list_index_insert_altered)))"
   ]
  },
  {
   "cell_type": "code",
   "execution_count": null,
   "metadata": {},
   "outputs": [],
   "source": [
    "list_index_insert_aterm = [index for index, item in new_aterm_dataset.iterrows()]\n",
    "\n",
    "if new_aterm_dataset.shape[0] > register_aterm_new:\n",
    "    list_index = [index for index, item in new_aterm_dataset.iterrows()]\n",
    "\n",
    "    list_index_insert_aterm = []\n",
    "    while len(list_index_insert_aterm) < register_aterm_new:\n",
    "        aux = random.randint(0, new_aterm_dataset.shape[0]-1)\n",
    "        if aux in list_index:\n",
    "            list_index_insert_aterm.append(aux)\n",
    "    \n",
    "print('List of register aterm dataset, %d register' % (len(list_index_insert_aterm)))"
   ]
  },
  {
   "cell_type": "code",
   "execution_count": null,
   "metadata": {},
   "outputs": [],
   "source": [
    "new_dataset = new_altered_dataset\n",
    "\n",
    "for i in list_index_insert_aterm:\n",
    "    new_dataset = new_dataset.append(new_aterm_dataset.iloc[i])\n",
    "    \n",
    "print(new_dataset.shape[0])"
   ]
  },
  {
   "cell_type": "code",
   "execution_count": null,
   "metadata": {},
   "outputs": [],
   "source": [
    "if len(columns_drop) > 0:\n",
    "    new_dataset = new_dataset.drop(columns_drop, axis=1)\n",
    "\n",
    "classify_name = \"classify\"\n",
    "classify_col = new_dataset.pop(classify_name)\n",
    "new_dataset.insert(new_dataset.shape[1], classify_name, classify_col)\n",
    "\n",
    "for index, item in new_dataset.iterrows():\n",
    "    if item['classify'] != 'Atermo':\n",
    "        new_dataset['classify'][index] = 'Alterado'"
   ]
  },
  {
   "cell_type": "code",
   "execution_count": null,
   "metadata": {},
   "outputs": [],
   "source": [
    "new_dataset.to_csv('dataset_final_treat.csv', index=False)"
   ]
  },
  {
   "cell_type": "code",
   "execution_count": null,
   "metadata": {},
   "outputs": [],
   "source": []
  }
 ],
 "metadata": {
  "kernelspec": {
   "display_name": "Python 3",
   "language": "python",
   "name": "python3"
  },
  "language_info": {
   "codemirror_mode": {
    "name": "ipython",
    "version": 3
   },
   "file_extension": ".py",
   "mimetype": "text/x-python",
   "name": "python",
   "nbconvert_exporter": "python",
   "pygments_lexer": "ipython3",
   "version": "3.6.10"
  }
 },
 "nbformat": 4,
 "nbformat_minor": 4
}
